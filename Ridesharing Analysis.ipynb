{
 "cells": [
  {
   "cell_type": "code",
   "execution_count": 1,
   "metadata": {},
   "outputs": [],
   "source": [
    "import numpy as np\n",
    "import pandas as pd\n",
    "import matplotlib.pyplot as plt\n",
    "import seaborn as sns\n",
    "% matplotlib inline"
   ]
  },
  {
   "cell_type": "markdown",
   "metadata": {},
   "source": [
    "Duration 4/9/2012 - 5/6/2012\n",
    "\n",
    "Limitation\n",
    "1. Not sure if this was the only promotion running within this duration and if 10% came from the same promotion\n",
    "2. Don't have the data of user engagement in the period of no promotions\n",
    "3. No accurate definition on new user \n",
    "\n",
    "Metrics:\n",
    "1. trip status\n",
    "2. actual time to arrival\n",
    "3. average spend per trip\n",
    "4. surge multiplier\n",
    "\n",
    "Data Integrity:\n",
    "* Check Duplication\n",
    "1. 1 duplicated trip id with different driver ids in driver_trips - remove the one with missing data\n",
    "2. 1 duplicated trip id with different rider ids in rider_trips - remove the one with unfulfilled trip status\n",
    "3. 1 duplicated driver id with different first completed trip date - should check historical data to get the accurate first competed trip date then decide the right record > but only have 2-month data > delete both\n",
    "\n",
    "bad data: completed trip > no payment & payout\n",
    "\n",
    "rider_data: first completed trip > 1895"
   ]
  },
  {
   "cell_type": "markdown",
   "metadata": {},
   "source": [
    "<font size=\"4\"><font color='red'>**Data Loading & Cleaning: driver_trips**</font></font>"
   ]
  },
  {
   "cell_type": "code",
   "execution_count": 2,
   "metadata": {},
   "outputs": [],
   "source": [
    "driver_trips = pd.read_excel('data_set_170705.xlsx', sheet_name='driver_trips')"
   ]
  },
  {
   "cell_type": "code",
   "execution_count": 3,
   "metadata": {},
   "outputs": [
    {
     "data": {
      "text/html": [
       "<div>\n",
       "<style scoped>\n",
       "    .dataframe tbody tr th:only-of-type {\n",
       "        vertical-align: middle;\n",
       "    }\n",
       "\n",
       "    .dataframe tbody tr th {\n",
       "        vertical-align: top;\n",
       "    }\n",
       "\n",
       "    .dataframe thead th {\n",
       "        text-align: right;\n",
       "    }\n",
       "</style>\n",
       "<table border=\"1\" class=\"dataframe\">\n",
       "  <thead>\n",
       "    <tr style=\"text-align: right;\">\n",
       "      <th></th>\n",
       "      <th>trip_id</th>\n",
       "      <th>driver_id</th>\n",
       "      <th>actual_time_to_arrival</th>\n",
       "      <th>driver payout</th>\n",
       "    </tr>\n",
       "  </thead>\n",
       "  <tbody>\n",
       "    <tr>\n",
       "      <th>0</th>\n",
       "      <td>b3cb-b9bf</td>\n",
       "      <td>4649-2f0a</td>\n",
       "      <td>3.516667</td>\n",
       "      <td>4.2368</td>\n",
       "    </tr>\n",
       "    <tr>\n",
       "      <th>1</th>\n",
       "      <td>8569-0fbf</td>\n",
       "      <td>4003-e2e7</td>\n",
       "      <td>2.633333</td>\n",
       "      <td>8.2432</td>\n",
       "    </tr>\n",
       "    <tr>\n",
       "      <th>2</th>\n",
       "      <td>86f2-e4cc</td>\n",
       "      <td>44af-7b74</td>\n",
       "      <td>1.333333</td>\n",
       "      <td>6.1952</td>\n",
       "    </tr>\n",
       "    <tr>\n",
       "      <th>3</th>\n",
       "      <td>aef6-924e</td>\n",
       "      <td>4909-aa90</td>\n",
       "      <td>1.700000</td>\n",
       "      <td>8.1856</td>\n",
       "    </tr>\n",
       "    <tr>\n",
       "      <th>4</th>\n",
       "      <td>921a-11d3</td>\n",
       "      <td>4e79-a40f</td>\n",
       "      <td>NaN</td>\n",
       "      <td>11.8080</td>\n",
       "    </tr>\n",
       "  </tbody>\n",
       "</table>\n",
       "</div>"
      ],
      "text/plain": [
       "     trip_id  driver_id  actual_time_to_arrival  driver payout\n",
       "0  b3cb-b9bf  4649-2f0a                3.516667         4.2368\n",
       "1  8569-0fbf  4003-e2e7                2.633333         8.2432\n",
       "2  86f2-e4cc  44af-7b74                1.333333         6.1952\n",
       "3  aef6-924e  4909-aa90                1.700000         8.1856\n",
       "4  921a-11d3  4e79-a40f                     NaN        11.8080"
      ]
     },
     "execution_count": 3,
     "metadata": {},
     "output_type": "execute_result"
    }
   ],
   "source": [
    "driver_trips.head()"
   ]
  },
  {
   "cell_type": "markdown",
   "metadata": {},
   "source": [
    "Check & Remove Duplicates"
   ]
  },
  {
   "cell_type": "code",
   "execution_count": 4,
   "metadata": {},
   "outputs": [
    {
     "data": {
      "text/plain": [
       "1"
      ]
     },
     "execution_count": 4,
     "metadata": {},
     "output_type": "execute_result"
    }
   ],
   "source": [
    "sum(driver_trips['trip_id'].duplicated())"
   ]
  },
  {
   "cell_type": "code",
   "execution_count": 5,
   "metadata": {},
   "outputs": [
    {
     "data": {
      "text/html": [
       "<div>\n",
       "<style scoped>\n",
       "    .dataframe tbody tr th:only-of-type {\n",
       "        vertical-align: middle;\n",
       "    }\n",
       "\n",
       "    .dataframe tbody tr th {\n",
       "        vertical-align: top;\n",
       "    }\n",
       "\n",
       "    .dataframe thead th {\n",
       "        text-align: right;\n",
       "    }\n",
       "</style>\n",
       "<table border=\"1\" class=\"dataframe\">\n",
       "  <thead>\n",
       "    <tr style=\"text-align: right;\">\n",
       "      <th></th>\n",
       "      <th>trip_id</th>\n",
       "      <th>driver_id</th>\n",
       "      <th>actual_time_to_arrival</th>\n",
       "      <th>driver payout</th>\n",
       "    </tr>\n",
       "  </thead>\n",
       "  <tbody>\n",
       "    <tr>\n",
       "      <th>33759</th>\n",
       "      <td>94a1-82d8</td>\n",
       "      <td>4e79-a40f</td>\n",
       "      <td>NaN</td>\n",
       "      <td>0.0</td>\n",
       "    </tr>\n",
       "  </tbody>\n",
       "</table>\n",
       "</div>"
      ],
      "text/plain": [
       "         trip_id  driver_id  actual_time_to_arrival  driver payout\n",
       "33759  94a1-82d8  4e79-a40f                     NaN            0.0"
      ]
     },
     "execution_count": 5,
     "metadata": {},
     "output_type": "execute_result"
    }
   ],
   "source": [
    "driver_trips[driver_trips['trip_id'].duplicated()]"
   ]
  },
  {
   "cell_type": "code",
   "execution_count": 6,
   "metadata": {},
   "outputs": [
    {
     "data": {
      "text/html": [
       "<div>\n",
       "<style scoped>\n",
       "    .dataframe tbody tr th:only-of-type {\n",
       "        vertical-align: middle;\n",
       "    }\n",
       "\n",
       "    .dataframe tbody tr th {\n",
       "        vertical-align: top;\n",
       "    }\n",
       "\n",
       "    .dataframe thead th {\n",
       "        text-align: right;\n",
       "    }\n",
       "</style>\n",
       "<table border=\"1\" class=\"dataframe\">\n",
       "  <thead>\n",
       "    <tr style=\"text-align: right;\">\n",
       "      <th></th>\n",
       "      <th>trip_id</th>\n",
       "      <th>driver_id</th>\n",
       "      <th>actual_time_to_arrival</th>\n",
       "      <th>driver payout</th>\n",
       "    </tr>\n",
       "  </thead>\n",
       "  <tbody>\n",
       "    <tr>\n",
       "      <th>14974</th>\n",
       "      <td>94a1-82d8</td>\n",
       "      <td>4b99-c52e</td>\n",
       "      <td>5.116667</td>\n",
       "      <td>5.2032</td>\n",
       "    </tr>\n",
       "    <tr>\n",
       "      <th>33759</th>\n",
       "      <td>94a1-82d8</td>\n",
       "      <td>4e79-a40f</td>\n",
       "      <td>NaN</td>\n",
       "      <td>0.0000</td>\n",
       "    </tr>\n",
       "  </tbody>\n",
       "</table>\n",
       "</div>"
      ],
      "text/plain": [
       "         trip_id  driver_id  actual_time_to_arrival  driver payout\n",
       "14974  94a1-82d8  4b99-c52e                5.116667         5.2032\n",
       "33759  94a1-82d8  4e79-a40f                     NaN         0.0000"
      ]
     },
     "execution_count": 6,
     "metadata": {},
     "output_type": "execute_result"
    }
   ],
   "source": [
    "driver_trips[driver_trips['trip_id']=='94a1-82d8']"
   ]
  },
  {
   "cell_type": "code",
   "execution_count": 7,
   "metadata": {},
   "outputs": [],
   "source": [
    "driver_trips.drop(33759, axis=0, inplace=True)"
   ]
  },
  {
   "cell_type": "markdown",
   "metadata": {},
   "source": [
    "<font size=\"4\"><font color='red'>**Data Loading & Cleaning: rider_trips**</font></font>"
   ]
  },
  {
   "cell_type": "code",
   "execution_count": 8,
   "metadata": {},
   "outputs": [],
   "source": [
    "rider_trips = pd.read_excel('data_set_170705.xlsx', sheet_name='rider_trips')"
   ]
  },
  {
   "cell_type": "code",
   "execution_count": 9,
   "metadata": {},
   "outputs": [
    {
     "data": {
      "text/html": [
       "<div>\n",
       "<style scoped>\n",
       "    .dataframe tbody tr th:only-of-type {\n",
       "        vertical-align: middle;\n",
       "    }\n",
       "\n",
       "    .dataframe tbody tr th {\n",
       "        vertical-align: top;\n",
       "    }\n",
       "\n",
       "    .dataframe thead th {\n",
       "        text-align: right;\n",
       "    }\n",
       "</style>\n",
       "<table border=\"1\" class=\"dataframe\">\n",
       "  <thead>\n",
       "    <tr style=\"text-align: right;\">\n",
       "      <th></th>\n",
       "      <th>trip_id</th>\n",
       "      <th>rider_id</th>\n",
       "      <th>trip_status</th>\n",
       "      <th>estimated_time_to_arrival</th>\n",
       "      <th>request_time</th>\n",
       "      <th>surge_multiplier</th>\n",
       "      <th>trip_price_pre_discount</th>\n",
       "      <th>rider_payment</th>\n",
       "      <th>start_geo</th>\n",
       "      <th>end_geo</th>\n",
       "      <th>discount</th>\n",
       "      <th>day_of_week</th>\n",
       "      <th>promo_flag</th>\n",
       "      <th>qualified_flag</th>\n",
       "    </tr>\n",
       "  </thead>\n",
       "  <tbody>\n",
       "    <tr>\n",
       "      <th>0</th>\n",
       "      <td>ac9a-28a9</td>\n",
       "      <td>41bf-ae49</td>\n",
       "      <td>rider_canceled</td>\n",
       "      <td>1.433333</td>\n",
       "      <td>2012-04-09 00:00:00</td>\n",
       "      <td>1.0</td>\n",
       "      <td>0.000</td>\n",
       "      <td>0.000</td>\n",
       "      <td>Chelsea Court</td>\n",
       "      <td>Chelsea Court</td>\n",
       "      <td>0.0</td>\n",
       "      <td>1</td>\n",
       "      <td>0</td>\n",
       "      <td>0</td>\n",
       "    </tr>\n",
       "    <tr>\n",
       "      <th>1</th>\n",
       "      <td>8179-4dc1</td>\n",
       "      <td>4335-b80f</td>\n",
       "      <td>completed</td>\n",
       "      <td>6.916667</td>\n",
       "      <td>2012-04-09 00:04:00</td>\n",
       "      <td>1.0</td>\n",
       "      <td>6.496</td>\n",
       "      <td>6.496</td>\n",
       "      <td>Chelsea Court</td>\n",
       "      <td>Allen Abby</td>\n",
       "      <td>0.0</td>\n",
       "      <td>1</td>\n",
       "      <td>0</td>\n",
       "      <td>0</td>\n",
       "    </tr>\n",
       "    <tr>\n",
       "      <th>2</th>\n",
       "      <td>bbed-183b</td>\n",
       "      <td>8fa1-eb56</td>\n",
       "      <td>completed</td>\n",
       "      <td>0.433333</td>\n",
       "      <td>2012-04-09 00:06:00</td>\n",
       "      <td>1.0</td>\n",
       "      <td>5.296</td>\n",
       "      <td>5.296</td>\n",
       "      <td>Chelsea Court</td>\n",
       "      <td>Allen Abby</td>\n",
       "      <td>0.0</td>\n",
       "      <td>1</td>\n",
       "      <td>0</td>\n",
       "      <td>0</td>\n",
       "    </tr>\n",
       "    <tr>\n",
       "      <th>3</th>\n",
       "      <td>bb32-d147</td>\n",
       "      <td>4804-84e3</td>\n",
       "      <td>completed</td>\n",
       "      <td>5.916667</td>\n",
       "      <td>2012-04-09 00:06:00</td>\n",
       "      <td>1.0</td>\n",
       "      <td>8.136</td>\n",
       "      <td>8.136</td>\n",
       "      <td>Allen Abby</td>\n",
       "      <td>Chelsea Court</td>\n",
       "      <td>0.0</td>\n",
       "      <td>1</td>\n",
       "      <td>0</td>\n",
       "      <td>0</td>\n",
       "    </tr>\n",
       "    <tr>\n",
       "      <th>4</th>\n",
       "      <td>a71a-ddf0</td>\n",
       "      <td>1403-8ad9</td>\n",
       "      <td>completed</td>\n",
       "      <td>4.033333</td>\n",
       "      <td>2012-04-09 00:09:00</td>\n",
       "      <td>1.0</td>\n",
       "      <td>3.536</td>\n",
       "      <td>3.536</td>\n",
       "      <td>Chelsea Court</td>\n",
       "      <td>Blair Bend</td>\n",
       "      <td>0.0</td>\n",
       "      <td>1</td>\n",
       "      <td>0</td>\n",
       "      <td>0</td>\n",
       "    </tr>\n",
       "  </tbody>\n",
       "</table>\n",
       "</div>"
      ],
      "text/plain": [
       "     trip_id   rider_id     trip_status  estimated_time_to_arrival  \\\n",
       "0  ac9a-28a9  41bf-ae49  rider_canceled                   1.433333   \n",
       "1  8179-4dc1  4335-b80f       completed                   6.916667   \n",
       "2  bbed-183b  8fa1-eb56       completed                   0.433333   \n",
       "3  bb32-d147  4804-84e3       completed                   5.916667   \n",
       "4  a71a-ddf0  1403-8ad9       completed                   4.033333   \n",
       "\n",
       "         request_time  surge_multiplier  trip_price_pre_discount  \\\n",
       "0 2012-04-09 00:00:00               1.0                    0.000   \n",
       "1 2012-04-09 00:04:00               1.0                    6.496   \n",
       "2 2012-04-09 00:06:00               1.0                    5.296   \n",
       "3 2012-04-09 00:06:00               1.0                    8.136   \n",
       "4 2012-04-09 00:09:00               1.0                    3.536   \n",
       "\n",
       "   rider_payment      start_geo        end_geo  discount  day_of_week  \\\n",
       "0          0.000  Chelsea Court  Chelsea Court       0.0            1   \n",
       "1          6.496  Chelsea Court     Allen Abby       0.0            1   \n",
       "2          5.296  Chelsea Court     Allen Abby       0.0            1   \n",
       "3          8.136     Allen Abby  Chelsea Court       0.0            1   \n",
       "4          3.536  Chelsea Court     Blair Bend       0.0            1   \n",
       "\n",
       "   promo_flag  qualified_flag  \n",
       "0           0               0  \n",
       "1           0               0  \n",
       "2           0               0  \n",
       "3           0               0  \n",
       "4           0               0  "
      ]
     },
     "execution_count": 9,
     "metadata": {},
     "output_type": "execute_result"
    }
   ],
   "source": [
    "rider_trips.head()"
   ]
  },
  {
   "cell_type": "markdown",
   "metadata": {},
   "source": [
    "Check & Remove Duplicates"
   ]
  },
  {
   "cell_type": "code",
   "execution_count": 10,
   "metadata": {},
   "outputs": [
    {
     "data": {
      "text/plain": [
       "1"
      ]
     },
     "execution_count": 10,
     "metadata": {},
     "output_type": "execute_result"
    }
   ],
   "source": [
    "sum(rider_trips['trip_id'].duplicated())"
   ]
  },
  {
   "cell_type": "code",
   "execution_count": 11,
   "metadata": {},
   "outputs": [
    {
     "data": {
      "text/html": [
       "<div>\n",
       "<style scoped>\n",
       "    .dataframe tbody tr th:only-of-type {\n",
       "        vertical-align: middle;\n",
       "    }\n",
       "\n",
       "    .dataframe tbody tr th {\n",
       "        vertical-align: top;\n",
       "    }\n",
       "\n",
       "    .dataframe thead th {\n",
       "        text-align: right;\n",
       "    }\n",
       "</style>\n",
       "<table border=\"1\" class=\"dataframe\">\n",
       "  <thead>\n",
       "    <tr style=\"text-align: right;\">\n",
       "      <th></th>\n",
       "      <th>trip_id</th>\n",
       "      <th>rider_id</th>\n",
       "      <th>trip_status</th>\n",
       "      <th>estimated_time_to_arrival</th>\n",
       "      <th>request_time</th>\n",
       "      <th>surge_multiplier</th>\n",
       "      <th>trip_price_pre_discount</th>\n",
       "      <th>rider_payment</th>\n",
       "      <th>start_geo</th>\n",
       "      <th>end_geo</th>\n",
       "      <th>discount</th>\n",
       "      <th>day_of_week</th>\n",
       "      <th>promo_flag</th>\n",
       "      <th>qualified_flag</th>\n",
       "    </tr>\n",
       "  </thead>\n",
       "  <tbody>\n",
       "    <tr>\n",
       "      <th>36431</th>\n",
       "      <td>94a1-82d8</td>\n",
       "      <td>ffc6-7d21</td>\n",
       "      <td>completed</td>\n",
       "      <td>4.616667</td>\n",
       "      <td>2012-04-26 21:37:00</td>\n",
       "      <td>1.0</td>\n",
       "      <td>6.504</td>\n",
       "      <td>6.504</td>\n",
       "      <td>Chelsea Court</td>\n",
       "      <td>Chelsea Court</td>\n",
       "      <td>0.0</td>\n",
       "      <td>4</td>\n",
       "      <td>0</td>\n",
       "      <td>0</td>\n",
       "    </tr>\n",
       "  </tbody>\n",
       "</table>\n",
       "</div>"
      ],
      "text/plain": [
       "         trip_id   rider_id trip_status  estimated_time_to_arrival  \\\n",
       "36431  94a1-82d8  ffc6-7d21   completed                   4.616667   \n",
       "\n",
       "             request_time  surge_multiplier  trip_price_pre_discount  \\\n",
       "36431 2012-04-26 21:37:00               1.0                    6.504   \n",
       "\n",
       "       rider_payment      start_geo        end_geo  discount  day_of_week  \\\n",
       "36431          6.504  Chelsea Court  Chelsea Court       0.0            4   \n",
       "\n",
       "       promo_flag  qualified_flag  \n",
       "36431           0               0  "
      ]
     },
     "execution_count": 11,
     "metadata": {},
     "output_type": "execute_result"
    }
   ],
   "source": [
    "rider_trips[rider_trips['trip_id'].duplicated()]"
   ]
  },
  {
   "cell_type": "code",
   "execution_count": 12,
   "metadata": {},
   "outputs": [
    {
     "data": {
      "text/html": [
       "<div>\n",
       "<style scoped>\n",
       "    .dataframe tbody tr th:only-of-type {\n",
       "        vertical-align: middle;\n",
       "    }\n",
       "\n",
       "    .dataframe tbody tr th {\n",
       "        vertical-align: top;\n",
       "    }\n",
       "\n",
       "    .dataframe thead th {\n",
       "        text-align: right;\n",
       "    }\n",
       "</style>\n",
       "<table border=\"1\" class=\"dataframe\">\n",
       "  <thead>\n",
       "    <tr style=\"text-align: right;\">\n",
       "      <th></th>\n",
       "      <th>trip_id</th>\n",
       "      <th>rider_id</th>\n",
       "      <th>trip_status</th>\n",
       "      <th>estimated_time_to_arrival</th>\n",
       "      <th>request_time</th>\n",
       "      <th>surge_multiplier</th>\n",
       "      <th>trip_price_pre_discount</th>\n",
       "      <th>rider_payment</th>\n",
       "      <th>start_geo</th>\n",
       "      <th>end_geo</th>\n",
       "      <th>discount</th>\n",
       "      <th>day_of_week</th>\n",
       "      <th>promo_flag</th>\n",
       "      <th>qualified_flag</th>\n",
       "    </tr>\n",
       "  </thead>\n",
       "  <tbody>\n",
       "    <tr>\n",
       "      <th>12389</th>\n",
       "      <td>94a1-82d8</td>\n",
       "      <td>fe7b-ea19</td>\n",
       "      <td>unfulfilled</td>\n",
       "      <td>NaN</td>\n",
       "      <td>2012-04-14 20:02:00</td>\n",
       "      <td>1.0</td>\n",
       "      <td>0.000</td>\n",
       "      <td>0.000</td>\n",
       "      <td>Chelsea Court</td>\n",
       "      <td>Chelsea Court</td>\n",
       "      <td>0.0</td>\n",
       "      <td>6</td>\n",
       "      <td>0</td>\n",
       "      <td>0</td>\n",
       "    </tr>\n",
       "    <tr>\n",
       "      <th>36431</th>\n",
       "      <td>94a1-82d8</td>\n",
       "      <td>ffc6-7d21</td>\n",
       "      <td>completed</td>\n",
       "      <td>4.616667</td>\n",
       "      <td>2012-04-26 21:37:00</td>\n",
       "      <td>1.0</td>\n",
       "      <td>6.504</td>\n",
       "      <td>6.504</td>\n",
       "      <td>Chelsea Court</td>\n",
       "      <td>Chelsea Court</td>\n",
       "      <td>0.0</td>\n",
       "      <td>4</td>\n",
       "      <td>0</td>\n",
       "      <td>0</td>\n",
       "    </tr>\n",
       "  </tbody>\n",
       "</table>\n",
       "</div>"
      ],
      "text/plain": [
       "         trip_id   rider_id  trip_status  estimated_time_to_arrival  \\\n",
       "12389  94a1-82d8  fe7b-ea19  unfulfilled                        NaN   \n",
       "36431  94a1-82d8  ffc6-7d21    completed                   4.616667   \n",
       "\n",
       "             request_time  surge_multiplier  trip_price_pre_discount  \\\n",
       "12389 2012-04-14 20:02:00               1.0                    0.000   \n",
       "36431 2012-04-26 21:37:00               1.0                    6.504   \n",
       "\n",
       "       rider_payment      start_geo        end_geo  discount  day_of_week  \\\n",
       "12389          0.000  Chelsea Court  Chelsea Court       0.0            6   \n",
       "36431          6.504  Chelsea Court  Chelsea Court       0.0            4   \n",
       "\n",
       "       promo_flag  qualified_flag  \n",
       "12389           0               0  \n",
       "36431           0               0  "
      ]
     },
     "execution_count": 12,
     "metadata": {},
     "output_type": "execute_result"
    }
   ],
   "source": [
    "rider_trips[rider_trips['trip_id']=='94a1-82d8']"
   ]
  },
  {
   "cell_type": "code",
   "execution_count": 13,
   "metadata": {},
   "outputs": [],
   "source": [
    "rider_trips.drop(12389, axis=0, inplace=True)"
   ]
  },
  {
   "cell_type": "markdown",
   "metadata": {},
   "source": [
    "<font size=\"4\"><font color='red'>**Data Loading & Cleaning: driver_data**</font></font>"
   ]
  },
  {
   "cell_type": "code",
   "execution_count": 14,
   "metadata": {},
   "outputs": [],
   "source": [
    "driver_data = pd.read_excel('data_set_170705.xlsx', sheet_name='driver_data')"
   ]
  },
  {
   "cell_type": "code",
   "execution_count": 15,
   "metadata": {},
   "outputs": [
    {
     "data": {
      "text/html": [
       "<div>\n",
       "<style scoped>\n",
       "    .dataframe tbody tr th:only-of-type {\n",
       "        vertical-align: middle;\n",
       "    }\n",
       "\n",
       "    .dataframe tbody tr th {\n",
       "        vertical-align: top;\n",
       "    }\n",
       "\n",
       "    .dataframe thead th {\n",
       "        text-align: right;\n",
       "    }\n",
       "</style>\n",
       "<table border=\"1\" class=\"dataframe\">\n",
       "  <thead>\n",
       "    <tr style=\"text-align: right;\">\n",
       "      <th></th>\n",
       "      <th>driver_id</th>\n",
       "      <th>first_completed_trip</th>\n",
       "      <th>lifetime_rating</th>\n",
       "      <th>lifetime_fares</th>\n",
       "      <th>lifetime_completed_trips</th>\n",
       "    </tr>\n",
       "  </thead>\n",
       "  <tbody>\n",
       "    <tr>\n",
       "      <th>0</th>\n",
       "      <td>48dc-c2db</td>\n",
       "      <td>2010-11-18 00:36:00</td>\n",
       "      <td>4.816199</td>\n",
       "      <td>8038.104</td>\n",
       "      <td>877</td>\n",
       "    </tr>\n",
       "    <tr>\n",
       "      <th>1</th>\n",
       "      <td>49aa-b176</td>\n",
       "      <td>2011-12-29 15:34:00</td>\n",
       "      <td>4.793532</td>\n",
       "      <td>9428.024</td>\n",
       "      <td>967</td>\n",
       "    </tr>\n",
       "    <tr>\n",
       "      <th>2</th>\n",
       "      <td>4332-47bc</td>\n",
       "      <td>2010-08-13 16:14:00</td>\n",
       "      <td>4.924581</td>\n",
       "      <td>13578.024</td>\n",
       "      <td>1719</td>\n",
       "    </tr>\n",
       "    <tr>\n",
       "      <th>3</th>\n",
       "      <td>4004-efca</td>\n",
       "      <td>2012-02-12 22:40:00</td>\n",
       "      <td>4.408000</td>\n",
       "      <td>2020.952</td>\n",
       "      <td>172</td>\n",
       "    </tr>\n",
       "    <tr>\n",
       "      <th>4</th>\n",
       "      <td>4efa-33c0</td>\n",
       "      <td>2011-04-28 03:56:00</td>\n",
       "      <td>4.605660</td>\n",
       "      <td>15984.752</td>\n",
       "      <td>1755</td>\n",
       "    </tr>\n",
       "  </tbody>\n",
       "</table>\n",
       "</div>"
      ],
      "text/plain": [
       "   driver_id first_completed_trip  lifetime_rating  lifetime_fares  \\\n",
       "0  48dc-c2db  2010-11-18 00:36:00         4.816199        8038.104   \n",
       "1  49aa-b176  2011-12-29 15:34:00         4.793532        9428.024   \n",
       "2  4332-47bc  2010-08-13 16:14:00         4.924581       13578.024   \n",
       "3  4004-efca  2012-02-12 22:40:00         4.408000        2020.952   \n",
       "4  4efa-33c0  2011-04-28 03:56:00         4.605660       15984.752   \n",
       "\n",
       "   lifetime_completed_trips  \n",
       "0                       877  \n",
       "1                       967  \n",
       "2                      1719  \n",
       "3                       172  \n",
       "4                      1755  "
      ]
     },
     "execution_count": 15,
     "metadata": {},
     "output_type": "execute_result"
    }
   ],
   "source": [
    "driver_data.head()"
   ]
  },
  {
   "cell_type": "code",
   "execution_count": 16,
   "metadata": {},
   "outputs": [
    {
     "data": {
      "text/plain": [
       "1"
      ]
     },
     "execution_count": 16,
     "metadata": {},
     "output_type": "execute_result"
    }
   ],
   "source": [
    "# Check duplicates\n",
    "sum(driver_data['driver_id'].duplicated())"
   ]
  },
  {
   "cell_type": "code",
   "execution_count": 17,
   "metadata": {},
   "outputs": [
    {
     "data": {
      "text/html": [
       "<div>\n",
       "<style scoped>\n",
       "    .dataframe tbody tr th:only-of-type {\n",
       "        vertical-align: middle;\n",
       "    }\n",
       "\n",
       "    .dataframe tbody tr th {\n",
       "        vertical-align: top;\n",
       "    }\n",
       "\n",
       "    .dataframe thead th {\n",
       "        text-align: right;\n",
       "    }\n",
       "</style>\n",
       "<table border=\"1\" class=\"dataframe\">\n",
       "  <thead>\n",
       "    <tr style=\"text-align: right;\">\n",
       "      <th></th>\n",
       "      <th>driver_id</th>\n",
       "      <th>first_completed_trip</th>\n",
       "      <th>lifetime_rating</th>\n",
       "      <th>lifetime_fares</th>\n",
       "      <th>lifetime_completed_trips</th>\n",
       "    </tr>\n",
       "  </thead>\n",
       "  <tbody>\n",
       "    <tr>\n",
       "      <th>9133</th>\n",
       "      <td>4a3c-ac69</td>\n",
       "      <td>2009-07-31 01:13:00</td>\n",
       "      <td>4.72957</td>\n",
       "      <td>33096.072</td>\n",
       "      <td>3674</td>\n",
       "    </tr>\n",
       "  </tbody>\n",
       "</table>\n",
       "</div>"
      ],
      "text/plain": [
       "      driver_id first_completed_trip  lifetime_rating  lifetime_fares  \\\n",
       "9133  4a3c-ac69  2009-07-31 01:13:00          4.72957       33096.072   \n",
       "\n",
       "      lifetime_completed_trips  \n",
       "9133                      3674  "
      ]
     },
     "execution_count": 17,
     "metadata": {},
     "output_type": "execute_result"
    }
   ],
   "source": [
    "driver_data[driver_data['driver_id'].duplicated()]"
   ]
  },
  {
   "cell_type": "code",
   "execution_count": 18,
   "metadata": {},
   "outputs": [
    {
     "data": {
      "text/html": [
       "<div>\n",
       "<style scoped>\n",
       "    .dataframe tbody tr th:only-of-type {\n",
       "        vertical-align: middle;\n",
       "    }\n",
       "\n",
       "    .dataframe tbody tr th {\n",
       "        vertical-align: top;\n",
       "    }\n",
       "\n",
       "    .dataframe thead th {\n",
       "        text-align: right;\n",
       "    }\n",
       "</style>\n",
       "<table border=\"1\" class=\"dataframe\">\n",
       "  <thead>\n",
       "    <tr style=\"text-align: right;\">\n",
       "      <th></th>\n",
       "      <th>driver_id</th>\n",
       "      <th>first_completed_trip</th>\n",
       "      <th>lifetime_rating</th>\n",
       "      <th>lifetime_fares</th>\n",
       "      <th>lifetime_completed_trips</th>\n",
       "    </tr>\n",
       "  </thead>\n",
       "  <tbody>\n",
       "    <tr>\n",
       "      <th>5068</th>\n",
       "      <td>4a3c-ac69</td>\n",
       "      <td>2012-02-03 15:24:00</td>\n",
       "      <td>4.717063</td>\n",
       "      <td>33096.072</td>\n",
       "      <td>3674</td>\n",
       "    </tr>\n",
       "    <tr>\n",
       "      <th>9133</th>\n",
       "      <td>4a3c-ac69</td>\n",
       "      <td>2009-07-31 01:13:00</td>\n",
       "      <td>4.729570</td>\n",
       "      <td>33096.072</td>\n",
       "      <td>3674</td>\n",
       "    </tr>\n",
       "  </tbody>\n",
       "</table>\n",
       "</div>"
      ],
      "text/plain": [
       "      driver_id first_completed_trip  lifetime_rating  lifetime_fares  \\\n",
       "5068  4a3c-ac69  2012-02-03 15:24:00         4.717063       33096.072   \n",
       "9133  4a3c-ac69  2009-07-31 01:13:00         4.729570       33096.072   \n",
       "\n",
       "      lifetime_completed_trips  \n",
       "5068                      3674  \n",
       "9133                      3674  "
      ]
     },
     "execution_count": 18,
     "metadata": {},
     "output_type": "execute_result"
    }
   ],
   "source": [
    "driver_data[driver_data['driver_id']=='4a3c-ac69']"
   ]
  },
  {
   "cell_type": "code",
   "execution_count": 19,
   "metadata": {},
   "outputs": [
    {
     "data": {
      "text/plain": [
       "5"
      ]
     },
     "execution_count": 19,
     "metadata": {},
     "output_type": "execute_result"
    }
   ],
   "source": [
    "# Number of trips that this driver had during this time\n",
    "driver_trips[driver_trips['driver_id']=='4a3c-ac69']['trip_id'].count()"
   ]
  },
  {
   "cell_type": "code",
   "execution_count": 20,
   "metadata": {},
   "outputs": [],
   "source": [
    "# Delete both records due to lack of historical data\n",
    "driver_data.drop([5068,9133], axis=0, inplace=True)"
   ]
  },
  {
   "cell_type": "markdown",
   "metadata": {},
   "source": [
    "<font size=\"4\"><font color='red'>**Data Loading & Cleaning: rider_data**</font></font>"
   ]
  },
  {
   "cell_type": "code",
   "execution_count": 21,
   "metadata": {},
   "outputs": [],
   "source": [
    "rider_data = pd.read_excel('data_set_170705.xlsx', sheet_name='rider_data')"
   ]
  },
  {
   "cell_type": "code",
   "execution_count": 22,
   "metadata": {},
   "outputs": [
    {
     "data": {
      "text/html": [
       "<div>\n",
       "<style scoped>\n",
       "    .dataframe tbody tr th:only-of-type {\n",
       "        vertical-align: middle;\n",
       "    }\n",
       "\n",
       "    .dataframe tbody tr th {\n",
       "        vertical-align: top;\n",
       "    }\n",
       "\n",
       "    .dataframe thead th {\n",
       "        text-align: right;\n",
       "    }\n",
       "</style>\n",
       "<table border=\"1\" class=\"dataframe\">\n",
       "  <thead>\n",
       "    <tr style=\"text-align: right;\">\n",
       "      <th></th>\n",
       "      <th>rider_id</th>\n",
       "      <th>first_completed_trip</th>\n",
       "      <th>lifetime_trips</th>\n",
       "      <th>first_trip_city_id</th>\n",
       "      <th>lifetime_payments</th>\n",
       "      <th>first_completed_trip_date_rider</th>\n",
       "      <th>promo_start_date</th>\n",
       "      <th>promo_end_date</th>\n",
       "      <th>new_user_flag</th>\n",
       "      <th>promo_flag_rider</th>\n",
       "      <th>qualified_flag_rider</th>\n",
       "    </tr>\n",
       "  </thead>\n",
       "  <tbody>\n",
       "    <tr>\n",
       "      <th>0</th>\n",
       "      <td>040b-9e6e</td>\n",
       "      <td>2009-02-28 13:23:44</td>\n",
       "      <td>112.0</td>\n",
       "      <td>1020</td>\n",
       "      <td>3106.19200</td>\n",
       "      <td>2009-02-28</td>\n",
       "      <td>2012-04-09</td>\n",
       "      <td>2012-05-06</td>\n",
       "      <td>0</td>\n",
       "      <td>0</td>\n",
       "      <td>0</td>\n",
       "    </tr>\n",
       "    <tr>\n",
       "      <th>1</th>\n",
       "      <td>75cc-bc9e</td>\n",
       "      <td>2011-04-21 11:03:07</td>\n",
       "      <td>216.0</td>\n",
       "      <td>1020</td>\n",
       "      <td>1698.55200</td>\n",
       "      <td>2011-04-21</td>\n",
       "      <td>2012-04-09</td>\n",
       "      <td>2012-05-06</td>\n",
       "      <td>0</td>\n",
       "      <td>0</td>\n",
       "      <td>0</td>\n",
       "    </tr>\n",
       "    <tr>\n",
       "      <th>2</th>\n",
       "      <td>7b3b-5562</td>\n",
       "      <td>2010-03-25 02:35:06</td>\n",
       "      <td>188.0</td>\n",
       "      <td>1024</td>\n",
       "      <td>2101.36000</td>\n",
       "      <td>2010-03-25</td>\n",
       "      <td>2012-04-09</td>\n",
       "      <td>2012-05-06</td>\n",
       "      <td>0</td>\n",
       "      <td>0</td>\n",
       "      <td>0</td>\n",
       "    </tr>\n",
       "    <tr>\n",
       "      <th>3</th>\n",
       "      <td>a251-1bd5</td>\n",
       "      <td>2009-09-08 14:29:51</td>\n",
       "      <td>60.0</td>\n",
       "      <td>1032</td>\n",
       "      <td>683.38949</td>\n",
       "      <td>2009-09-08</td>\n",
       "      <td>2012-04-09</td>\n",
       "      <td>2012-05-06</td>\n",
       "      <td>0</td>\n",
       "      <td>0</td>\n",
       "      <td>0</td>\n",
       "    </tr>\n",
       "    <tr>\n",
       "      <th>4</th>\n",
       "      <td>1276-3268</td>\n",
       "      <td>2011-11-05 16:55:28</td>\n",
       "      <td>376.0</td>\n",
       "      <td>1032</td>\n",
       "      <td>2895.97600</td>\n",
       "      <td>2011-11-05</td>\n",
       "      <td>2012-04-09</td>\n",
       "      <td>2012-05-06</td>\n",
       "      <td>0</td>\n",
       "      <td>0</td>\n",
       "      <td>0</td>\n",
       "    </tr>\n",
       "  </tbody>\n",
       "</table>\n",
       "</div>"
      ],
      "text/plain": [
       "    rider_id first_completed_trip  lifetime_trips  first_trip_city_id  \\\n",
       "0  040b-9e6e  2009-02-28 13:23:44           112.0                1020   \n",
       "1  75cc-bc9e  2011-04-21 11:03:07           216.0                1020   \n",
       "2  7b3b-5562  2010-03-25 02:35:06           188.0                1024   \n",
       "3  a251-1bd5  2009-09-08 14:29:51            60.0                1032   \n",
       "4  1276-3268  2011-11-05 16:55:28           376.0                1032   \n",
       "\n",
       "   lifetime_payments first_completed_trip_date_rider promo_start_date  \\\n",
       "0         3106.19200                      2009-02-28       2012-04-09   \n",
       "1         1698.55200                      2011-04-21       2012-04-09   \n",
       "2         2101.36000                      2010-03-25       2012-04-09   \n",
       "3          683.38949                      2009-09-08       2012-04-09   \n",
       "4         2895.97600                      2011-11-05       2012-04-09   \n",
       "\n",
       "  promo_end_date  new_user_flag  promo_flag_rider  qualified_flag_rider  \n",
       "0     2012-05-06              0                 0                     0  \n",
       "1     2012-05-06              0                 0                     0  \n",
       "2     2012-05-06              0                 0                     0  \n",
       "3     2012-05-06              0                 0                     0  \n",
       "4     2012-05-06              0                 0                     0  "
      ]
     },
     "execution_count": 22,
     "metadata": {},
     "output_type": "execute_result"
    }
   ],
   "source": [
    "rider_data.head()"
   ]
  },
  {
   "cell_type": "code",
   "execution_count": 23,
   "metadata": {},
   "outputs": [
    {
     "data": {
      "text/plain": [
       "0"
      ]
     },
     "execution_count": 23,
     "metadata": {},
     "output_type": "execute_result"
    }
   ],
   "source": [
    "# Check duplicates\n",
    "sum(rider_data['rider_id'].duplicated())"
   ]
  },
  {
   "cell_type": "markdown",
   "metadata": {},
   "source": [
    "\n",
    "\n",
    "\n",
    "\n",
    "\n",
    "\n",
    "\n",
    "\n",
    "\n"
   ]
  },
  {
   "cell_type": "markdown",
   "metadata": {},
   "source": [
    "<font size=\"4\"><font color='red'>**Data Aggregation**</font></font>"
   ]
  },
  {
   "cell_type": "code",
   "execution_count": 24,
   "metadata": {},
   "outputs": [],
   "source": [
    "# combine all 4 tables into 1\n",
    "trip_merge = pd.merge(pd.merge(pd.merge(rider_trips,driver_trips,how='left',on='trip_id'),\n",
    "                      rider_data,how='left',on='rider_id'),\n",
    "                      driver_data,how='left',on='driver_id')"
   ]
  },
  {
   "cell_type": "code",
   "execution_count": 25,
   "metadata": {},
   "outputs": [],
   "source": [
    "# rename columns\n",
    "trip_merge.rename(columns={'first_completed_trip_x':'first_completed_trip_rider', \n",
    "                           'first_completed_trip_y':'first_completed_trip_driver'}, inplace=True)"
   ]
  },
  {
   "cell_type": "code",
   "execution_count": 26,
   "metadata": {},
   "outputs": [
    {
     "data": {
      "text/plain": [
       "59999"
      ]
     },
     "execution_count": 26,
     "metadata": {},
     "output_type": "execute_result"
    }
   ],
   "source": [
    "len(trip_merge)"
   ]
  },
  {
   "cell_type": "code",
   "execution_count": 27,
   "metadata": {},
   "outputs": [],
   "source": [
    "# remove completed trips with 0 rider payment and 0 driver payout\n",
    "trip_merge = trip_merge.drop(trip_merge[(trip_merge.trip_status=='completed') & (trip_merge.rider_payment==0) \n",
    "                          & (trip_merge['driver payout']==0)].index)"
   ]
  },
  {
   "cell_type": "code",
   "execution_count": 28,
   "metadata": {},
   "outputs": [
    {
     "data": {
      "text/plain": [
       "59994"
      ]
     },
     "execution_count": 28,
     "metadata": {},
     "output_type": "execute_result"
    }
   ],
   "source": [
    "len(trip_merge)"
   ]
  },
  {
   "cell_type": "code",
   "execution_count": 29,
   "metadata": {},
   "outputs": [],
   "source": [
    "trip_merge['payout ratio'] = trip_merge['driver payout']/trip_merge['trip_price_pre_discount']"
   ]
  },
  {
   "cell_type": "code",
   "execution_count": 30,
   "metadata": {},
   "outputs": [
    {
     "data": {
      "text/plain": [
       "array([nan, 0.8, 0.8, 0.8])"
      ]
     },
     "execution_count": 30,
     "metadata": {},
     "output_type": "execute_result"
    }
   ],
   "source": [
    "trip_merge['payout ratio'].unique()"
   ]
  },
  {
   "cell_type": "code",
   "execution_count": 31,
   "metadata": {},
   "outputs": [],
   "source": [
    "trip_merge['request_date'] = pd.to_datetime(trip_merge['request_time']).dt.date"
   ]
  },
  {
   "cell_type": "code",
   "execution_count": 32,
   "metadata": {},
   "outputs": [],
   "source": [
    "trip_merge['profit'] = np.where(trip_merge['discount']==0,\n",
    "                                trip_merge['rider_payment']-trip_merge['driver payout'],\n",
    "                                trip_merge['rider_payment']-trip_merge['driver payout']-trip_merge['trip_price_pre_discount']*0.1)"
   ]
  },
  {
   "cell_type": "code",
   "execution_count": 33,
   "metadata": {},
   "outputs": [
    {
     "data": {
      "text/html": [
       "<div>\n",
       "<style scoped>\n",
       "    .dataframe tbody tr th:only-of-type {\n",
       "        vertical-align: middle;\n",
       "    }\n",
       "\n",
       "    .dataframe tbody tr th {\n",
       "        vertical-align: top;\n",
       "    }\n",
       "\n",
       "    .dataframe thead th {\n",
       "        text-align: right;\n",
       "    }\n",
       "</style>\n",
       "<table border=\"1\" class=\"dataframe\">\n",
       "  <thead>\n",
       "    <tr style=\"text-align: right;\">\n",
       "      <th></th>\n",
       "      <th>trip_id</th>\n",
       "      <th>rider_id</th>\n",
       "      <th>trip_status</th>\n",
       "      <th>estimated_time_to_arrival</th>\n",
       "      <th>request_time</th>\n",
       "      <th>surge_multiplier</th>\n",
       "      <th>trip_price_pre_discount</th>\n",
       "      <th>rider_payment</th>\n",
       "      <th>start_geo</th>\n",
       "      <th>end_geo</th>\n",
       "      <th>...</th>\n",
       "      <th>new_user_flag</th>\n",
       "      <th>promo_flag_rider</th>\n",
       "      <th>qualified_flag_rider</th>\n",
       "      <th>first_completed_trip_driver</th>\n",
       "      <th>lifetime_rating</th>\n",
       "      <th>lifetime_fares</th>\n",
       "      <th>lifetime_completed_trips</th>\n",
       "      <th>payout ratio</th>\n",
       "      <th>request_date</th>\n",
       "      <th>profit</th>\n",
       "    </tr>\n",
       "  </thead>\n",
       "  <tbody>\n",
       "    <tr>\n",
       "      <th>0</th>\n",
       "      <td>ac9a-28a9</td>\n",
       "      <td>41bf-ae49</td>\n",
       "      <td>rider_canceled</td>\n",
       "      <td>1.433333</td>\n",
       "      <td>2012-04-09 00:00:00</td>\n",
       "      <td>1.0</td>\n",
       "      <td>0.000</td>\n",
       "      <td>0.000</td>\n",
       "      <td>Chelsea Court</td>\n",
       "      <td>Chelsea Court</td>\n",
       "      <td>...</td>\n",
       "      <td>0.0</td>\n",
       "      <td>0.0</td>\n",
       "      <td>0.0</td>\n",
       "      <td>2010-03-03 11:55:00</td>\n",
       "      <td>4.767662</td>\n",
       "      <td>33149.840</td>\n",
       "      <td>2909.0</td>\n",
       "      <td>NaN</td>\n",
       "      <td>2012-04-09</td>\n",
       "      <td>0.0000</td>\n",
       "    </tr>\n",
       "    <tr>\n",
       "      <th>1</th>\n",
       "      <td>8179-4dc1</td>\n",
       "      <td>4335-b80f</td>\n",
       "      <td>completed</td>\n",
       "      <td>6.916667</td>\n",
       "      <td>2012-04-09 00:04:00</td>\n",
       "      <td>1.0</td>\n",
       "      <td>6.496</td>\n",
       "      <td>6.496</td>\n",
       "      <td>Chelsea Court</td>\n",
       "      <td>Allen Abby</td>\n",
       "      <td>...</td>\n",
       "      <td>NaN</td>\n",
       "      <td>NaN</td>\n",
       "      <td>NaN</td>\n",
       "      <td>2012-04-03 22:32:00</td>\n",
       "      <td>NaN</td>\n",
       "      <td>2477.880</td>\n",
       "      <td>374.0</td>\n",
       "      <td>0.8</td>\n",
       "      <td>2012-04-09</td>\n",
       "      <td>1.2992</td>\n",
       "    </tr>\n",
       "    <tr>\n",
       "      <th>2</th>\n",
       "      <td>bbed-183b</td>\n",
       "      <td>8fa1-eb56</td>\n",
       "      <td>completed</td>\n",
       "      <td>0.433333</td>\n",
       "      <td>2012-04-09 00:06:00</td>\n",
       "      <td>1.0</td>\n",
       "      <td>5.296</td>\n",
       "      <td>5.296</td>\n",
       "      <td>Chelsea Court</td>\n",
       "      <td>Allen Abby</td>\n",
       "      <td>...</td>\n",
       "      <td>0.0</td>\n",
       "      <td>0.0</td>\n",
       "      <td>0.0</td>\n",
       "      <td>2010-12-10 01:35:00</td>\n",
       "      <td>4.868443</td>\n",
       "      <td>38502.304</td>\n",
       "      <td>3807.0</td>\n",
       "      <td>0.8</td>\n",
       "      <td>2012-04-09</td>\n",
       "      <td>1.0592</td>\n",
       "    </tr>\n",
       "    <tr>\n",
       "      <th>3</th>\n",
       "      <td>bb32-d147</td>\n",
       "      <td>4804-84e3</td>\n",
       "      <td>completed</td>\n",
       "      <td>5.916667</td>\n",
       "      <td>2012-04-09 00:06:00</td>\n",
       "      <td>1.0</td>\n",
       "      <td>8.136</td>\n",
       "      <td>8.136</td>\n",
       "      <td>Allen Abby</td>\n",
       "      <td>Chelsea Court</td>\n",
       "      <td>...</td>\n",
       "      <td>0.0</td>\n",
       "      <td>0.0</td>\n",
       "      <td>0.0</td>\n",
       "      <td>2010-08-21 04:14:00</td>\n",
       "      <td>4.894089</td>\n",
       "      <td>17347.376</td>\n",
       "      <td>1305.0</td>\n",
       "      <td>0.8</td>\n",
       "      <td>2012-04-09</td>\n",
       "      <td>1.6272</td>\n",
       "    </tr>\n",
       "    <tr>\n",
       "      <th>4</th>\n",
       "      <td>a71a-ddf0</td>\n",
       "      <td>1403-8ad9</td>\n",
       "      <td>completed</td>\n",
       "      <td>4.033333</td>\n",
       "      <td>2012-04-09 00:09:00</td>\n",
       "      <td>1.0</td>\n",
       "      <td>3.536</td>\n",
       "      <td>3.536</td>\n",
       "      <td>Chelsea Court</td>\n",
       "      <td>Blair Bend</td>\n",
       "      <td>...</td>\n",
       "      <td>0.0</td>\n",
       "      <td>0.0</td>\n",
       "      <td>0.0</td>\n",
       "      <td>2011-10-07 00:48:00</td>\n",
       "      <td>4.885876</td>\n",
       "      <td>16616.352</td>\n",
       "      <td>1844.0</td>\n",
       "      <td>0.8</td>\n",
       "      <td>2012-04-09</td>\n",
       "      <td>0.7072</td>\n",
       "    </tr>\n",
       "  </tbody>\n",
       "</table>\n",
       "<p>5 rows × 34 columns</p>\n",
       "</div>"
      ],
      "text/plain": [
       "     trip_id   rider_id     trip_status  estimated_time_to_arrival  \\\n",
       "0  ac9a-28a9  41bf-ae49  rider_canceled                   1.433333   \n",
       "1  8179-4dc1  4335-b80f       completed                   6.916667   \n",
       "2  bbed-183b  8fa1-eb56       completed                   0.433333   \n",
       "3  bb32-d147  4804-84e3       completed                   5.916667   \n",
       "4  a71a-ddf0  1403-8ad9       completed                   4.033333   \n",
       "\n",
       "         request_time  surge_multiplier  trip_price_pre_discount  \\\n",
       "0 2012-04-09 00:00:00               1.0                    0.000   \n",
       "1 2012-04-09 00:04:00               1.0                    6.496   \n",
       "2 2012-04-09 00:06:00               1.0                    5.296   \n",
       "3 2012-04-09 00:06:00               1.0                    8.136   \n",
       "4 2012-04-09 00:09:00               1.0                    3.536   \n",
       "\n",
       "   rider_payment      start_geo        end_geo   ...    new_user_flag  \\\n",
       "0          0.000  Chelsea Court  Chelsea Court   ...              0.0   \n",
       "1          6.496  Chelsea Court     Allen Abby   ...              NaN   \n",
       "2          5.296  Chelsea Court     Allen Abby   ...              0.0   \n",
       "3          8.136     Allen Abby  Chelsea Court   ...              0.0   \n",
       "4          3.536  Chelsea Court     Blair Bend   ...              0.0   \n",
       "\n",
       "   promo_flag_rider  qualified_flag_rider  first_completed_trip_driver  \\\n",
       "0               0.0                   0.0          2010-03-03 11:55:00   \n",
       "1               NaN                   NaN          2012-04-03 22:32:00   \n",
       "2               0.0                   0.0          2010-12-10 01:35:00   \n",
       "3               0.0                   0.0          2010-08-21 04:14:00   \n",
       "4               0.0                   0.0          2011-10-07 00:48:00   \n",
       "\n",
       "  lifetime_rating  lifetime_fares  lifetime_completed_trips payout ratio  \\\n",
       "0        4.767662       33149.840                    2909.0          NaN   \n",
       "1             NaN        2477.880                     374.0          0.8   \n",
       "2        4.868443       38502.304                    3807.0          0.8   \n",
       "3        4.894089       17347.376                    1305.0          0.8   \n",
       "4        4.885876       16616.352                    1844.0          0.8   \n",
       "\n",
       "   request_date  profit  \n",
       "0    2012-04-09  0.0000  \n",
       "1    2012-04-09  1.2992  \n",
       "2    2012-04-09  1.0592  \n",
       "3    2012-04-09  1.6272  \n",
       "4    2012-04-09  0.7072  \n",
       "\n",
       "[5 rows x 34 columns]"
      ]
     },
     "execution_count": 33,
     "metadata": {},
     "output_type": "execute_result"
    }
   ],
   "source": [
    "trip_merge.head()"
   ]
  },
  {
   "cell_type": "code",
   "execution_count": 34,
   "metadata": {},
   "outputs": [
    {
     "data": {
      "text/plain": [
       "50829"
      ]
     },
     "execution_count": 34,
     "metadata": {},
     "output_type": "execute_result"
    }
   ],
   "source": [
    "trip_merge['rider_id'].nunique()"
   ]
  },
  {
   "cell_type": "code",
   "execution_count": 35,
   "metadata": {},
   "outputs": [
    {
     "data": {
      "text/plain": [
       "Index(['trip_id', 'rider_id', 'trip_status', 'estimated_time_to_arrival',\n",
       "       'request_time', 'surge_multiplier', 'trip_price_pre_discount',\n",
       "       'rider_payment', 'start_geo', 'end_geo', 'discount', 'day_of_week',\n",
       "       'promo_flag', 'qualified_flag', 'driver_id', 'actual_time_to_arrival',\n",
       "       'driver payout', 'first_completed_trip_rider', 'lifetime_trips',\n",
       "       'first_trip_city_id', 'lifetime_payments',\n",
       "       'first_completed_trip_date_rider', 'promo_start_date', 'promo_end_date',\n",
       "       'new_user_flag', 'promo_flag_rider', 'qualified_flag_rider',\n",
       "       'first_completed_trip_driver', 'lifetime_rating', 'lifetime_fares',\n",
       "       'lifetime_completed_trips', 'payout ratio', 'request_date', 'profit'],\n",
       "      dtype='object')"
      ]
     },
     "execution_count": 35,
     "metadata": {},
     "output_type": "execute_result"
    }
   ],
   "source": [
    "trip_merge.columns"
   ]
  },
  {
   "cell_type": "code",
   "execution_count": 36,
   "metadata": {},
   "outputs": [
    {
     "data": {
      "text/plain": [
       "trip_id                            0.000000\n",
       "rider_id                           0.000000\n",
       "trip_status                        0.000000\n",
       "estimated_time_to_arrival          0.041604\n",
       "request_time                       0.000000\n",
       "surge_multiplier                   0.000000\n",
       "trip_price_pre_discount            0.000000\n",
       "rider_payment                      0.000000\n",
       "start_geo                          0.000000\n",
       "end_geo                            0.000000\n",
       "discount                           0.000000\n",
       "day_of_week                        0.000000\n",
       "promo_flag                         0.000000\n",
       "qualified_flag                     0.000000\n",
       "driver_id                          0.002434\n",
       "actual_time_to_arrival             0.106877\n",
       "driver payout                      0.002434\n",
       "first_completed_trip_rider         0.040421\n",
       "lifetime_trips                     0.040504\n",
       "first_trip_city_id                 0.040421\n",
       "lifetime_payments                  0.040504\n",
       "first_completed_trip_date_rider    0.040421\n",
       "promo_start_date                   0.040421\n",
       "promo_end_date                     0.040421\n",
       "new_user_flag                      0.040421\n",
       "promo_flag_rider                   0.040421\n",
       "qualified_flag_rider               0.040421\n",
       "first_completed_trip_driver        0.002517\n",
       "lifetime_rating                    0.024436\n",
       "lifetime_fares                     0.002517\n",
       "lifetime_completed_trips           0.002517\n",
       "payout ratio                       0.077141\n",
       "request_date                       0.000000\n",
       "profit                             0.002434\n",
       "dtype: float64"
      ]
     },
     "execution_count": 36,
     "metadata": {},
     "output_type": "execute_result"
    }
   ],
   "source": [
    "# Check missing values\n",
    "trip_merge.isnull().sum()/len(trip_merge)"
   ]
  },
  {
   "cell_type": "code",
   "execution_count": 37,
   "metadata": {},
   "outputs": [],
   "source": [
    "# trip_merge.to_csv('trip_merge.csv')"
   ]
  },
  {
   "cell_type": "code",
   "execution_count": 38,
   "metadata": {},
   "outputs": [],
   "source": [
    "trip_cc = trip_merge[trip_merge.qualified_flag==1]"
   ]
  },
  {
   "cell_type": "code",
   "execution_count": 39,
   "metadata": {},
   "outputs": [
    {
     "data": {
      "text/plain": [
       "promo_flag\n",
       "0    3239\n",
       "1    3348\n",
       "Name: trip_id, dtype: int64"
      ]
     },
     "execution_count": 39,
     "metadata": {},
     "output_type": "execute_result"
    }
   ],
   "source": [
    "trip_cc.groupby('promo_flag')['trip_id'].count()"
   ]
  },
  {
   "cell_type": "code",
   "execution_count": 40,
   "metadata": {},
   "outputs": [
    {
     "data": {
      "text/plain": [
       "promo_flag  request_date\n",
       "0           2012-04-09       7.687558\n",
       "            2012-04-10       5.372028\n",
       "            2012-04-11       4.476690\n",
       "            2012-04-12       8.428527\n",
       "            2012-04-13       9.107749\n",
       "            2012-04-16       4.600185\n",
       "            2012-04-17       3.396110\n",
       "            2012-04-18       3.210868\n",
       "            2012-04-19       2.716888\n",
       "            2012-04-20       5.649892\n",
       "            2012-04-23       2.192035\n",
       "            2012-04-24       2.809509\n",
       "            2012-04-25       1.358444\n",
       "            2012-04-26       6.576104\n",
       "            2012-04-27       5.094165\n",
       "            2012-04-30       7.347947\n",
       "            2012-05-01       1.481939\n",
       "            2012-05-02       2.037666\n",
       "            2012-05-03       6.576104\n",
       "            2012-05-04       9.879592\n",
       "1           2012-04-09       8.452808\n",
       "            2012-04-10       5.794504\n",
       "            2012-04-11       4.510155\n",
       "            2012-04-12       6.421744\n",
       "            2012-04-13       8.811231\n",
       "            2012-04-16       4.659498\n",
       "            2012-04-17       4.121864\n",
       "            2012-04-18       3.793309\n",
       "            2012-04-19       2.747909\n",
       "            2012-04-20       5.585424\n",
       "            2012-04-23       2.419355\n",
       "            2012-04-24       2.777778\n",
       "            2012-04-25       1.105137\n",
       "            2012-04-26       5.316607\n",
       "            2012-04-27       5.585424\n",
       "            2012-04-30       6.511350\n",
       "            2012-05-01       1.373955\n",
       "            2012-05-02       2.956989\n",
       "            2012-05-03       6.929510\n",
       "            2012-05-04      10.125448\n",
       "Name: trip_id, dtype: float64"
      ]
     },
     "execution_count": 40,
     "metadata": {},
     "output_type": "execute_result"
    }
   ],
   "source": [
    "# % of total trips by promo flag per day\n",
    "trip_cc.groupby(['promo_flag', 'request_date'])['trip_id'].count()/trip_cc.groupby('promo_flag')['trip_id'].count()*100"
   ]
  },
  {
   "cell_type": "code",
   "execution_count": 41,
   "metadata": {},
   "outputs": [
    {
     "data": {
      "text/plain": [
       "promo_flag  request_date\n",
       "0           2012-04-09      249\n",
       "            2012-04-10      174\n",
       "            2012-04-11      143\n",
       "            2012-04-12      272\n",
       "            2012-04-13      294\n",
       "            2012-04-16      147\n",
       "            2012-04-17      108\n",
       "            2012-04-18      104\n",
       "            2012-04-19       88\n",
       "            2012-04-20      182\n",
       "            2012-04-23       71\n",
       "            2012-04-24       91\n",
       "            2012-04-25       44\n",
       "            2012-04-26      213\n",
       "            2012-04-27      164\n",
       "            2012-04-30      236\n",
       "            2012-05-01       48\n",
       "            2012-05-02       65\n",
       "            2012-05-03      212\n",
       "            2012-05-04      318\n",
       "1           2012-04-09      283\n",
       "            2012-04-10      193\n",
       "            2012-04-11      151\n",
       "            2012-04-12      215\n",
       "            2012-04-13      295\n",
       "            2012-04-16      155\n",
       "            2012-04-17      138\n",
       "            2012-04-18      127\n",
       "            2012-04-19       92\n",
       "            2012-04-20      187\n",
       "            2012-04-23       81\n",
       "            2012-04-24       93\n",
       "            2012-04-25       37\n",
       "            2012-04-26      176\n",
       "            2012-04-27      187\n",
       "            2012-04-30      215\n",
       "            2012-05-01       46\n",
       "            2012-05-02       98\n",
       "            2012-05-03      232\n",
       "            2012-05-04      339\n",
       "Name: rider_id, dtype: int64"
      ]
     },
     "execution_count": 41,
     "metadata": {},
     "output_type": "execute_result"
    }
   ],
   "source": [
    "# distinct riders per group\n",
    "trip_cc.groupby(['promo_flag', 'request_date'])['rider_id'].nunique()"
   ]
  },
  {
   "cell_type": "code",
   "execution_count": 42,
   "metadata": {},
   "outputs": [
    {
     "data": {
      "text/plain": [
       "promo_flag\n",
       "0    6.904252\n",
       "1    8.975149\n",
       "Name: trip_price_pre_discount, dtype: float64"
      ]
     },
     "execution_count": 42,
     "metadata": {},
     "output_type": "execute_result"
    }
   ],
   "source": [
    "trip_cc.groupby('promo_flag')['trip_price_pre_discount'].mean()"
   ]
  },
  {
   "cell_type": "code",
   "execution_count": 43,
   "metadata": {},
   "outputs": [
    {
     "data": {
      "text/plain": [
       "promo_flag\n",
       "0    6.904252\n",
       "1    8.077634\n",
       "Name: rider_payment, dtype: float64"
      ]
     },
     "execution_count": 43,
     "metadata": {},
     "output_type": "execute_result"
    }
   ],
   "source": [
    "trip_cc.groupby('promo_flag')['rider_payment'].mean()"
   ]
  },
  {
   "cell_type": "code",
   "execution_count": 44,
   "metadata": {},
   "outputs": [
    {
     "data": {
      "text/plain": [
       "promo_flag\n",
       "0    5.523402\n",
       "1    7.180119\n",
       "Name: driver payout, dtype: float64"
      ]
     },
     "execution_count": 44,
     "metadata": {},
     "output_type": "execute_result"
    }
   ],
   "source": [
    "trip_cc.groupby('promo_flag')['driver payout'].mean()"
   ]
  },
  {
   "cell_type": "code",
   "execution_count": 45,
   "metadata": {},
   "outputs": [
    {
     "data": {
      "text/plain": [
       "promo_flag  day_of_week\n",
       "0           1               707\n",
       "            2               423\n",
       "            3               359\n",
       "            4               787\n",
       "            5               963\n",
       "1           1               738\n",
       "            2               471\n",
       "            3               414\n",
       "            4               717\n",
       "            5              1008\n",
       "Name: trip_id, dtype: int64"
      ]
     },
     "execution_count": 45,
     "metadata": {},
     "output_type": "execute_result"
    }
   ],
   "source": [
    "trip_cc.groupby(['promo_flag','day_of_week'])['trip_id'].count()"
   ]
  },
  {
   "cell_type": "code",
   "execution_count": 46,
   "metadata": {},
   "outputs": [
    {
     "data": {
      "text/plain": [
       "promo_flag  trip_status   \n",
       "0           completed         0.752701\n",
       "            rider_canceled    0.247299\n",
       "1           completed         0.972521\n",
       "            rider_canceled    0.027479\n",
       "Name: trip_id, dtype: float64"
      ]
     },
     "execution_count": 46,
     "metadata": {},
     "output_type": "execute_result"
    }
   ],
   "source": [
    "trip_cc.groupby(['promo_flag','trip_status'])['trip_id'].count()/trip_cc.groupby('promo_flag')['trip_id'].count()"
   ]
  },
  {
   "cell_type": "code",
   "execution_count": 47,
   "metadata": {},
   "outputs": [
    {
     "data": {
      "text/plain": [
       "promo_flag  trip_status   \n",
       "0           completed         9.057933\n",
       "            rider_canceled    0.349104\n",
       "1           completed         8.222862\n",
       "            rider_canceled    2.937835\n",
       "Name: rider_payment, dtype: float64"
      ]
     },
     "execution_count": 47,
     "metadata": {},
     "output_type": "execute_result"
    }
   ],
   "source": [
    "trip_cc.groupby(['promo_flag','trip_status'])['rider_payment'].mean()"
   ]
  },
  {
   "cell_type": "code",
   "execution_count": 48,
   "metadata": {},
   "outputs": [
    {
     "data": {
      "text/plain": [
       "promo_flag  trip_status   \n",
       "0           completed         1.572026\n",
       "            rider_canceled    1.631710\n",
       "1           completed         1.573188\n",
       "            rider_canceled    1.507609\n",
       "Name: surge_multiplier, dtype: float64"
      ]
     },
     "execution_count": 48,
     "metadata": {},
     "output_type": "execute_result"
    }
   ],
   "source": [
    "trip_cc.groupby(['promo_flag','trip_status'])['surge_multiplier'].mean()"
   ]
  },
  {
   "cell_type": "code",
   "execution_count": 49,
   "metadata": {},
   "outputs": [
    {
     "data": {
      "text/plain": [
       "promo_flag  trip_status   \n",
       "0           completed         7.246346\n",
       "            rider_canceled    0.279283\n",
       "1           completed         7.309211\n",
       "            rider_canceled    2.611409\n",
       "Name: driver payout, dtype: float64"
      ]
     },
     "execution_count": 49,
     "metadata": {},
     "output_type": "execute_result"
    }
   ],
   "source": [
    "trip_cc.groupby(['promo_flag','trip_status'])['driver payout'].mean()"
   ]
  },
  {
   "cell_type": "code",
   "execution_count": 50,
   "metadata": {},
   "outputs": [
    {
     "data": {
      "text/plain": [
       "promo_flag  trip_status   \n",
       "0           completed         1.811587e+00\n",
       "            rider_canceled    6.982072e-02\n",
       "1           completed        -3.773258e-16\n",
       "            rider_canceled   -2.148040e-16\n",
       "Name: profit, dtype: float64"
      ]
     },
     "execution_count": 50,
     "metadata": {},
     "output_type": "execute_result"
    }
   ],
   "source": [
    "trip_cc.groupby(['promo_flag','trip_status'])['profit'].mean()"
   ]
  },
  {
   "cell_type": "code",
   "execution_count": 51,
   "metadata": {},
   "outputs": [
    {
     "data": {
      "text/plain": [
       "promo_flag  trip_status   \n",
       "0           completed         9.057933\n",
       "            rider_canceled    0.349104\n",
       "1           completed         9.136514\n",
       "            rider_canceled    3.264261\n",
       "Name: trip_price_pre_discount, dtype: float64"
      ]
     },
     "execution_count": 51,
     "metadata": {},
     "output_type": "execute_result"
    }
   ],
   "source": [
    "trip_cc.groupby(['promo_flag','trip_status'])['trip_price_pre_discount'].mean()"
   ]
  }
 ],
 "metadata": {
  "kernelspec": {
   "display_name": "Python 3",
   "language": "python",
   "name": "python3"
  },
  "language_info": {
   "codemirror_mode": {
    "name": "ipython",
    "version": 3
   },
   "file_extension": ".py",
   "mimetype": "text/x-python",
   "name": "python",
   "nbconvert_exporter": "python",
   "pygments_lexer": "ipython3",
   "version": "3.6.5"
  }
 },
 "nbformat": 4,
 "nbformat_minor": 2
}
